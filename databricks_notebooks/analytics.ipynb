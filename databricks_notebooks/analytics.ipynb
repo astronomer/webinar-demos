{
 "cells": [
  {
   "cell_type": "markdown",
   "metadata": {
    "application/vnd.databricks.v1+cell": {
     "cellMetadata": {
      "byteLimit": 2048000,
      "rowLimit": 10000
     },
     "inputWidgets": {},
     "nuid": "40f9d267-c7ea-4de1-ac2c-8068a0ed95c9",
     "showTitle": false,
     "title": ""
    }
   },
   "source": [
    "## Analytics Green vs Not Green Manufacturing Efficiency"
   ]
  },
  {
   "cell_type": "code",
   "execution_count": null,
   "metadata": {
    "application/vnd.databricks.v1+cell": {
     "cellMetadata": {
      "byteLimit": 2048000,
      "rowLimit": 10000
     },
     "inputWidgets": {},
     "nuid": "a6ef2989-e530-42d2-b03f-34e4f1b56e97",
     "showTitle": false,
     "title": ""
    }
   },
   "outputs": [],
   "source": [
    "df_green = spark.sql(\"SELECT * FROM hive_metastore.default.greenefficiency\")\n",
    "df_not_green = spark.sql(\"SELECT * FROM hive_metastore.default.notgreenefficiency\")"
   ]
  },
  {
   "cell_type": "code",
   "execution_count": null,
   "metadata": {
    "application/vnd.databricks.v1+cell": {
     "cellMetadata": {
      "byteLimit": 2048000,
      "rowLimit": 10000
     },
     "inputWidgets": {},
     "nuid": "f2f0820d-8ccd-4973-a6b3-7bd6785362ad",
     "showTitle": false,
     "title": ""
    }
   },
   "outputs": [],
   "source": [
    "df_green_pd = df_green.toPandas()\n",
    "df_not_green_pd = df_not_green.toPandas()"
   ]
  },
  {
   "cell_type": "code",
   "execution_count": null,
   "metadata": {
    "application/vnd.databricks.v1+cell": {
     "cellMetadata": {
      "byteLimit": 2048000,
      "rowLimit": 10000
     },
     "inputWidgets": {},
     "nuid": "6a830a27-1cb2-4f0f-9fda-c13c45b5da3a",
     "showTitle": false,
     "title": ""
    }
   },
   "outputs": [],
   "source": [
    "df_green_pd = df_green_pd.sort_values(by='TS')\n",
    "df_not_green_pd = df_not_green_pd.sort_values(by='TS')"
   ]
  },
  {
   "cell_type": "code",
   "execution_count": null,
   "metadata": {
    "application/vnd.databricks.v1+cell": {
     "cellMetadata": {
      "byteLimit": 2048000,
      "rowLimit": 10000
     },
     "inputWidgets": {},
     "nuid": "57116eb9-d8ce-44b3-a9f0-0813963c5936",
     "showTitle": false,
     "title": ""
    }
   },
   "outputs": [],
   "source": [
    "import matplotlib.pyplot as plt\n",
    "import pandas as pd\n",
    "from sklearn.linear_model import LinearRegression\n",
    "\n",
    "df_green_pd['TS_num'] = df_green_pd['TS'].apply(lambda x: x.toordinal())\n",
    "df_not_green_pd['TS_num'] = df_not_green_pd['TS'].apply(lambda x: x.toordinal())\n",
    "\n",
    "reg_green = LinearRegression().fit(df_green_pd[['TS_num']], df_green_pd['Efficiency'])\n",
    "reg_not_green = LinearRegression().fit(df_not_green_pd[['TS_num']], df_not_green_pd['Efficiency'])\n",
    "\n",
    "df_green_pd['RegLine'] = reg_green.predict(df_green_pd[['TS_num']])\n",
    "df_not_green_pd['RegLine'] = reg_not_green.predict(df_not_green_pd[['TS_num']])\n",
    "\n",
    "fig, axes = plt.subplots(nrows=2, ncols=1, figsize=(10, 8))\n",
    "\n",
    "axes[0].plot(df_green_pd['TS'], df_green_pd['Efficiency'], marker='o', linestyle='-', color='#00B76A', label='Efficiency')\n",
    "axes[0].plot(df_green_pd['TS'], df_green_pd['RegLine'], linestyle='--', color='red', label='Regression Line')\n",
    "axes[0].set_title('Efficiency Over Time (Green Energy)', fontsize=14)\n",
    "axes[0].set_xlabel('Timestamp', fontsize=12)\n",
    "axes[0].set_ylabel('Efficiency', fontsize=12)\n",
    "axes[0].tick_params(axis='x', rotation=45)\n",
    "axes[0].set_ylim(0, 0.3)\n",
    "axes[0].grid(False)\n",
    "axes[0].legend()\n",
    "\n",
    "axes[1].plot(df_not_green_pd['TS'], df_not_green_pd['Efficiency'], marker='o', linestyle='-', color='#8A60FF', label='Efficiency')\n",
    "axes[1].plot(df_not_green_pd['TS'], df_not_green_pd['RegLine'], linestyle='--', color='red', label='Regression Line')\n",
    "axes[1].set_title('Efficiency Over Time (Non-Green Energy)', fontsize=14)\n",
    "axes[1].set_xlabel('Timestamp', fontsize=12)\n",
    "axes[1].set_ylabel('Efficiency', fontsize=12)\n",
    "axes[1].tick_params(axis='x', rotation=45)\n",
    "axes[1].set_ylim(0, 0.3)\n",
    "axes[1].grid(False)\n",
    "axes[1].legend()\n",
    "\n",
    "for ax in axes:\n",
    "    ax.yaxis.set_major_locator(plt.MaxNLocator(nbins=10))\n",
    "\n",
    "plt.tight_layout()\n",
    "plt.show()\n"
   ]
  }
 ],
 "metadata": {
  "application/vnd.databricks.v1+notebook": {
   "dashboards": [],
   "environmentMetadata": null,
   "language": "python",
   "notebookMetadata": {
    "pythonIndentUnit": 4
   },
   "notebookName": "analytics",
   "widgets": {}
  },
  "language_info": {
   "name": "python"
  }
 },
 "nbformat": 4,
 "nbformat_minor": 0
}
