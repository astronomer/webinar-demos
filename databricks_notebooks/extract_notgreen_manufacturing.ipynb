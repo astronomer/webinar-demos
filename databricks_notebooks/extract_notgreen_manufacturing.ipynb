{
 "cells": [
  {
   "cell_type": "markdown",
   "metadata": {
    "application/vnd.databricks.v1+cell": {
     "cellMetadata": {
      "byteLimit": 2048000,
      "rowLimit": 10000
     },
     "inputWidgets": {},
     "nuid": "786fe9cc-d994-4cf8-bce6-fbe22355d7fd",
     "showTitle": false,
     "title": ""
    }
   },
   "source": [
    "## Select Not-Green Initiative Manufacturing Facilities"
   ]
  },
  {
   "cell_type": "code",
   "execution_count": null,
   "metadata": {
    "application/vnd.databricks.v1+cell": {
     "cellMetadata": {
      "byteLimit": 2048000,
      "rowLimit": 10000
     },
     "inputWidgets": {},
     "nuid": "70e7f4f9-e120-4a30-bb88-e9aee01d7332",
     "showTitle": false,
     "title": ""
    }
   },
   "outputs": [],
   "source": [
    "df = spark.sql(\"SELECT * FROM hive_metastore.default.facilityefficiency WHERE IsGreenEnergyInitiative = false\")\n",
    "\n",
    "df.show()\n"
   ]
  },
  {
   "cell_type": "code",
   "execution_count": null,
   "metadata": {
    "application/vnd.databricks.v1+cell": {
     "cellMetadata": {
      "byteLimit": 2048000,
      "rowLimit": 10000
     },
     "inputWidgets": {},
     "nuid": "2ea77b81-8feb-418f-92c7-fa4ad873be7d",
     "showTitle": false,
     "title": ""
    }
   },
   "outputs": [],
   "source": [
    "# dbtutils get injected params\n",
    "dbutils.widgets.text(\"extraction_department\", \"Manufacturing\", \"Extraction Department\")\n",
    "department = dbutils.widgets.get(\"extraction_department\")\n",
    "\n",
    "pandas_df = df.toPandas()\n",
    "pandas_df = pandas_df[pandas_df.Department == department]\n",
    "display(pandas_df.head())"
   ]
  },
  {
   "cell_type": "code",
   "execution_count": null,
   "metadata": {
    "application/vnd.databricks.v1+cell": {
     "cellMetadata": {
      "byteLimit": 2048000,
      "rowLimit": 10000
     },
     "inputWidgets": {},
     "nuid": "9f19b8de-eeb7-443a-a437-3fb7a3ddea8b",
     "showTitle": false,
     "title": ""
    }
   },
   "outputs": [],
   "source": [
    "\n",
    "spark_df = spark.createDataFrame(pandas_df)\n",
    "\n",
    "# for the demo we override the table, in reality you would likely `append` new data\n",
    "spark_df.write.mode(\"overwrite\").saveAsTable(\"hive_metastore.default.notgreenmanufacturing\")"
   ]
  }
 ],
 "metadata": {
  "application/vnd.databricks.v1+notebook": {
   "dashboards": [],
   "environmentMetadata": null,
   "language": "python",
   "notebookMetadata": {
    "mostRecentlyExecutedCommandWithImplicitDF": {
     "commandId": 2218568755290436,
     "dataframes": [
      "_sqldf"
     ]
    },
    "pythonIndentUnit": 4
   },
   "notebookName": "extract_notgreen_manufacturing",
   "widgets": {}
  },
  "language_info": {
   "name": "python"
  }
 },
 "nbformat": 4,
 "nbformat_minor": 0
}
